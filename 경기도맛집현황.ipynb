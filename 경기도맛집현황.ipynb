{
  "nbformat": 4,
  "nbformat_minor": 0,
  "metadata": {
    "colab": {
      "name": "경기도맛집현황.ipynb",
      "provenance": [],
      "authorship_tag": "ABX9TyNI0hu7frzUD46eevErERHZ",
      "include_colab_link": true
    },
    "kernelspec": {
      "name": "python3",
      "display_name": "Python 3"
    },
    "language_info": {
      "name": "python"
    }
  },
  "cells": [
    {
      "cell_type": "markdown",
      "metadata": {
        "id": "view-in-github",
        "colab_type": "text"
      },
      "source": [
        "<a href=\"https://colab.research.google.com/github/doomba32/python/blob/main/%EA%B2%BD%EA%B8%B0%EB%8F%84%EB%A7%9B%EC%A7%91%ED%98%84%ED%99%A9.ipynb\" target=\"_parent\"><img src=\"https://colab.research.google.com/assets/colab-badge.svg\" alt=\"Open In Colab\"/></a>"
      ]
    },
    {
      "cell_type": "code",
      "metadata": {
        "id": "q3_hrh7kyBH0"
      },
      "source": [
        "#필요한 파이썬 모듈을 import\n",
        "from google.colab import files #google colab에 파일 업로드 위한 모듈\n",
        "import io #업로드된 파일을 읽기위한 모듈\n",
        "import pandas as pd #데이터 분석을 위한 모듈"
      ],
      "execution_count": 7,
      "outputs": []
    },
    {
      "cell_type": "code",
      "metadata": {
        "colab": {
          "resources": {
            "http://localhost:8080/nbextensions/google.colab/files.js": {
              "data": "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",
              "ok": true,
              "headers": [
                [
                  "content-type",
                  "application/javascript"
                ]
              ],
              "status": 200,
              "status_text": ""
            }
          },
          "base_uri": "https://localhost:8080/",
          "height": 75
        },
        "id": "d8k9yfAqar2-",
        "outputId": "bddd1dbd-f81c-4938-fc1b-ac607fedd2f5"
      },
      "source": [
        "#이 코드 실행 후, 아래에서 '파일 선택' 하여 '맛집현황.csv' 업로드\n",
        "uploaded = files.upload()"
      ],
      "execution_count": 2,
      "outputs": [
        {
          "output_type": "display_data",
          "data": {
            "text/html": [
              "\n",
              "     <input type=\"file\" id=\"files-953aebb5-66fb-4313-90a2-a0d45a204e0f\" name=\"files[]\" multiple disabled\n",
              "        style=\"border:none\" />\n",
              "     <output id=\"result-953aebb5-66fb-4313-90a2-a0d45a204e0f\">\n",
              "      Upload widget is only available when the cell has been executed in the\n",
              "      current browser session. Please rerun this cell to enable.\n",
              "      </output>\n",
              "      <script src=\"/nbextensions/google.colab/files.js\"></script> "
            ],
            "text/plain": [
              "<IPython.core.display.HTML object>"
            ]
          },
          "metadata": {}
        },
        {
          "output_type": "stream",
          "name": "stdout",
          "text": [
            "Saving 맛집현황.csv to 맛집현황.csv\n"
          ]
        }
      ]
    },
    {
      "cell_type": "code",
      "metadata": {
        "id": "bde_Kz-HPPlH"
      },
      "source": [
        "# 업로드된 '맛집현황.csv' 파일을 '맛집'이라는 변수로 업로드 (주의: 해당 파일은 euc-kr로 encoding되어 있어 이를 지정해줘야 정상적으로 읽을 수 있음)\n",
        "맛집 = pd.read_csv(io.BytesIO(uploaded['맛집현황.csv']),encoding='euc-kr')"
      ],
      "execution_count": 1,
      "outputs": []
    },
    {
      "cell_type": "code",
      "metadata": {
        "id": "1EXODaZbcI-L"
      },
      "source": [
        "# 해당 파일을 미리 받지 못한경우, 아래 주석처리된 코드를 대신 사용\n",
        "#맛집 = pd.read_csv('http://doomba32.github.io/python/data/Restaurant.csv', encoding='euc-kr')"
      ],
      "execution_count": 8,
      "outputs": []
    },
    {
      "cell_type": "code",
      "metadata": {
        "id": "TLs3XwEQPPlJ",
        "colab": {
          "base_uri": "https://localhost:8080/",
          "height": 202
        },
        "outputId": "2346ccee-c59e-4664-85fa-baf0b893dc08"
      },
      "source": [
        "#앞쪽 데이터 확인\n",
        "맛집.head()"
      ],
      "execution_count": 7,
      "outputs": [
        {
          "output_type": "execute_result",
          "data": {
            "text/html": [
              "<div>\n",
              "<style scoped>\n",
              "    .dataframe tbody tr th:only-of-type {\n",
              "        vertical-align: middle;\n",
              "    }\n",
              "\n",
              "    .dataframe tbody tr th {\n",
              "        vertical-align: top;\n",
              "    }\n",
              "\n",
              "    .dataframe thead th {\n",
              "        text-align: right;\n",
              "    }\n",
              "</style>\n",
              "<table border=\"1\" class=\"dataframe\">\n",
              "  <thead>\n",
              "    <tr style=\"text-align: right;\">\n",
              "      <th></th>\n",
              "      <th>시군명</th>\n",
              "      <th>음식점명</th>\n",
              "      <th>맛집전화번호</th>\n",
              "      <th>대표음식명</th>\n",
              "      <th>소재지우편번호</th>\n",
              "      <th>소재지도로명주소</th>\n",
              "      <th>소재지지번주소</th>\n",
              "      <th>WGS84위도</th>\n",
              "      <th>WGS84경도</th>\n",
              "    </tr>\n",
              "  </thead>\n",
              "  <tbody>\n",
              "    <tr>\n",
              "      <th>0</th>\n",
              "      <td>가평군</td>\n",
              "      <td>가평축협 한우명가</td>\n",
              "      <td>031-581-1592</td>\n",
              "      <td>푸른연잎한우명품꽃등심</td>\n",
              "      <td>12422</td>\n",
              "      <td>경기도 가평군 가평읍 달전로 19</td>\n",
              "      <td>경기도 가평군 가평읍 달전리 382-1번지</td>\n",
              "      <td>37.815844</td>\n",
              "      <td>127.516128</td>\n",
              "    </tr>\n",
              "    <tr>\n",
              "      <th>1</th>\n",
              "      <td>고양시</td>\n",
              "      <td>청정바지락칼국수</td>\n",
              "      <td>031-912-7676</td>\n",
              "      <td>천년초들깨수제비</td>\n",
              "      <td>10359</td>\n",
              "      <td>경기도 고양시 일산동구 일산로463번길 7</td>\n",
              "      <td>경기도 고양시 일산동구 정발산동 1148번지</td>\n",
              "      <td>37.673707</td>\n",
              "      <td>126.775375</td>\n",
              "    </tr>\n",
              "    <tr>\n",
              "      <th>2</th>\n",
              "      <td>고양시</td>\n",
              "      <td>양촌리아구</td>\n",
              "      <td>031-911-0430</td>\n",
              "      <td>아구탕</td>\n",
              "      <td>10218</td>\n",
              "      <td>경기도 고양시 일산서구 대화2로 152</td>\n",
              "      <td>경기도 고양시 일산서구 대화동 762-3번지</td>\n",
              "      <td>37.671931</td>\n",
              "      <td>126.736219</td>\n",
              "    </tr>\n",
              "    <tr>\n",
              "      <th>3</th>\n",
              "      <td>고양시</td>\n",
              "      <td>정통중화요리 남궁</td>\n",
              "      <td>031-911-3702</td>\n",
              "      <td>해물고추짬뽕, 양장피잡채</td>\n",
              "      <td>10367</td>\n",
              "      <td>경기도 고양시 일산서구 일산로 682</td>\n",
              "      <td>경기도 고양시 일산서구 대화동 2101번지</td>\n",
              "      <td>37.682042</td>\n",
              "      <td>126.753550</td>\n",
              "    </tr>\n",
              "    <tr>\n",
              "      <th>4</th>\n",
              "      <td>고양시</td>\n",
              "      <td>야구장농원</td>\n",
              "      <td>031-964-2884</td>\n",
              "      <td>오리진흙구이</td>\n",
              "      <td>10313</td>\n",
              "      <td>경기도 고양시 일산동구 견달산로 351</td>\n",
              "      <td>경기도 고양시 일산동구 문봉동 102-1번지</td>\n",
              "      <td>37.697102</td>\n",
              "      <td>126.819819</td>\n",
              "    </tr>\n",
              "  </tbody>\n",
              "</table>\n",
              "</div>"
            ],
            "text/plain": [
              "   시군명       음식점명  ...    WGS84위도     WGS84경도\n",
              "0  가평군  가평축협 한우명가  ...  37.815844  127.516128\n",
              "1  고양시   청정바지락칼국수  ...  37.673707  126.775375\n",
              "2  고양시      양촌리아구  ...  37.671931  126.736219\n",
              "3  고양시  정통중화요리 남궁  ...  37.682042  126.753550\n",
              "4  고양시      야구장농원  ...  37.697102  126.819819\n",
              "\n",
              "[5 rows x 9 columns]"
            ]
          },
          "metadata": {},
          "execution_count": 7
        }
      ]
    },
    {
      "cell_type": "code",
      "metadata": {
        "colab": {
          "base_uri": "https://localhost:8080/"
        },
        "id": "FjlX2R76y-Nu",
        "outputId": "599ace7d-fee7-4d7b-c459-ad8cb306563e"
      },
      "source": [
        "#정보 출력\n",
        "맛집.info()"
      ],
      "execution_count": 8,
      "outputs": [
        {
          "output_type": "stream",
          "name": "stdout",
          "text": [
            "<class 'pandas.core.frame.DataFrame'>\n",
            "RangeIndex: 137 entries, 0 to 136\n",
            "Data columns (total 9 columns):\n",
            " #   Column    Non-Null Count  Dtype  \n",
            "---  ------    --------------  -----  \n",
            " 0   시군명       137 non-null    object \n",
            " 1   음식점명      137 non-null    object \n",
            " 2   맛집전화번호    137 non-null    object \n",
            " 3   대표음식명     137 non-null    object \n",
            " 4   소재지우편번호   137 non-null    int64  \n",
            " 5   소재지도로명주소  137 non-null    object \n",
            " 6   소재지지번주소   137 non-null    object \n",
            " 7   WGS84위도   137 non-null    float64\n",
            " 8   WGS84경도   137 non-null    float64\n",
            "dtypes: float64(2), int64(1), object(6)\n",
            "memory usage: 9.8+ KB\n"
          ]
        }
      ]
    },
    {
      "cell_type": "code",
      "metadata": {
        "colab": {
          "base_uri": "https://localhost:8080/",
          "height": 202
        },
        "id": "hKBrGHmm7bo7",
        "outputId": "ea45aeca-73ed-4bbc-ca82-d91c3ec0c150"
      },
      "source": [
        "#일부 column 명 변경\n",
        "맛집.rename(columns={맛집.columns[7] : '위도'}, inplace=True)\n",
        "맛집.rename(columns={맛집.columns[8] : '경도'}, inplace=True)\n",
        "맛집.head()"
      ],
      "execution_count": 10,
      "outputs": [
        {
          "output_type": "execute_result",
          "data": {
            "text/html": [
              "<div>\n",
              "<style scoped>\n",
              "    .dataframe tbody tr th:only-of-type {\n",
              "        vertical-align: middle;\n",
              "    }\n",
              "\n",
              "    .dataframe tbody tr th {\n",
              "        vertical-align: top;\n",
              "    }\n",
              "\n",
              "    .dataframe thead th {\n",
              "        text-align: right;\n",
              "    }\n",
              "</style>\n",
              "<table border=\"1\" class=\"dataframe\">\n",
              "  <thead>\n",
              "    <tr style=\"text-align: right;\">\n",
              "      <th></th>\n",
              "      <th>시군명</th>\n",
              "      <th>음식점명</th>\n",
              "      <th>맛집전화번호</th>\n",
              "      <th>대표음식명</th>\n",
              "      <th>소재지우편번호</th>\n",
              "      <th>소재지도로명주소</th>\n",
              "      <th>소재지지번주소</th>\n",
              "      <th>위도</th>\n",
              "      <th>경도</th>\n",
              "    </tr>\n",
              "  </thead>\n",
              "  <tbody>\n",
              "    <tr>\n",
              "      <th>0</th>\n",
              "      <td>가평군</td>\n",
              "      <td>가평축협 한우명가</td>\n",
              "      <td>031-581-1592</td>\n",
              "      <td>푸른연잎한우명품꽃등심</td>\n",
              "      <td>12422</td>\n",
              "      <td>경기도 가평군 가평읍 달전로 19</td>\n",
              "      <td>경기도 가평군 가평읍 달전리 382-1번지</td>\n",
              "      <td>37.815844</td>\n",
              "      <td>127.516128</td>\n",
              "    </tr>\n",
              "    <tr>\n",
              "      <th>1</th>\n",
              "      <td>고양시</td>\n",
              "      <td>청정바지락칼국수</td>\n",
              "      <td>031-912-7676</td>\n",
              "      <td>천년초들깨수제비</td>\n",
              "      <td>10359</td>\n",
              "      <td>경기도 고양시 일산동구 일산로463번길 7</td>\n",
              "      <td>경기도 고양시 일산동구 정발산동 1148번지</td>\n",
              "      <td>37.673707</td>\n",
              "      <td>126.775375</td>\n",
              "    </tr>\n",
              "    <tr>\n",
              "      <th>2</th>\n",
              "      <td>고양시</td>\n",
              "      <td>양촌리아구</td>\n",
              "      <td>031-911-0430</td>\n",
              "      <td>아구탕</td>\n",
              "      <td>10218</td>\n",
              "      <td>경기도 고양시 일산서구 대화2로 152</td>\n",
              "      <td>경기도 고양시 일산서구 대화동 762-3번지</td>\n",
              "      <td>37.671931</td>\n",
              "      <td>126.736219</td>\n",
              "    </tr>\n",
              "    <tr>\n",
              "      <th>3</th>\n",
              "      <td>고양시</td>\n",
              "      <td>정통중화요리 남궁</td>\n",
              "      <td>031-911-3702</td>\n",
              "      <td>해물고추짬뽕, 양장피잡채</td>\n",
              "      <td>10367</td>\n",
              "      <td>경기도 고양시 일산서구 일산로 682</td>\n",
              "      <td>경기도 고양시 일산서구 대화동 2101번지</td>\n",
              "      <td>37.682042</td>\n",
              "      <td>126.753550</td>\n",
              "    </tr>\n",
              "    <tr>\n",
              "      <th>4</th>\n",
              "      <td>고양시</td>\n",
              "      <td>야구장농원</td>\n",
              "      <td>031-964-2884</td>\n",
              "      <td>오리진흙구이</td>\n",
              "      <td>10313</td>\n",
              "      <td>경기도 고양시 일산동구 견달산로 351</td>\n",
              "      <td>경기도 고양시 일산동구 문봉동 102-1번지</td>\n",
              "      <td>37.697102</td>\n",
              "      <td>126.819819</td>\n",
              "    </tr>\n",
              "  </tbody>\n",
              "</table>\n",
              "</div>"
            ],
            "text/plain": [
              "   시군명       음식점명  ...         위도          경도\n",
              "0  가평군  가평축협 한우명가  ...  37.815844  127.516128\n",
              "1  고양시   청정바지락칼국수  ...  37.673707  126.775375\n",
              "2  고양시      양촌리아구  ...  37.671931  126.736219\n",
              "3  고양시  정통중화요리 남궁  ...  37.682042  126.753550\n",
              "4  고양시      야구장농원  ...  37.697102  126.819819\n",
              "\n",
              "[5 rows x 9 columns]"
            ]
          },
          "metadata": {},
          "execution_count": 10
        }
      ]
    },
    {
      "cell_type": "code",
      "metadata": {
        "id": "pfjFYxRa_1ZS"
      },
      "source": [
        "#매탄고등학교의 위도, 경로 입력\n",
        "# https://pilot.duni.io/util/ 에서 \"경기도 수원시 영통구 매탄로126번길 11\" 주소를 좌표로 변환\n",
        "위도 = 37.262576051\n",
        "경도 = 127.04475557"
      ],
      "execution_count": 4,
      "outputs": []
    },
    {
      "cell_type": "code",
      "metadata": {
        "colab": {
          "base_uri": "https://localhost:8080/"
        },
        "id": "Qms1Fwm-zuYA",
        "outputId": "c7b663ba-cd2d-4432-b8f6-36f715f62471"
      },
      "source": [
        "\n",
        "# 거리 계산을 위한 harversine library 설치\n",
        "!pip install haversine"
      ],
      "execution_count": 2,
      "outputs": [
        {
          "output_type": "stream",
          "name": "stdout",
          "text": [
            "Collecting haversine\n",
            "  Downloading haversine-2.5.1-py2.py3-none-any.whl (6.1 kB)\n",
            "Installing collected packages: haversine\n",
            "Successfully installed haversine-2.5.1\n"
          ]
        }
      ]
    },
    {
      "cell_type": "code",
      "metadata": {
        "colab": {
          "base_uri": "https://localhost:8080/"
        },
        "id": "XfGgf4Br0K33",
        "outputId": "9dd7cd2f-3f57-4477-9b2f-f8afbd6e39f0"
      },
      "source": [
        "#haversine(( 37.262576051,127.04475557),(37.815844\t,127.516128))\n",
        "haversine(( 37.262576051,127.04475557),(37.258157\t,127.181793))"
      ],
      "execution_count": 13,
      "outputs": [
        {
          "output_type": "execute_result",
          "data": {
            "text/plain": [
              "12.137669756366737"
            ]
          },
          "metadata": {},
          "execution_count": 13
        }
      ]
    },
    {
      "cell_type": "code",
      "metadata": {
        "id": "9Sc1uRbE0dH-"
      },
      "source": [
        "#거리계산  함수 정의\n",
        "# math 모듈의 pi, acos, cos, sin 사용하여 두 지점의 거리(km 단위) 계산\n",
        "\n",
        "# 참고1  :http://www.mapanet.eu/EN/Resources/Script-Distance.htm\n",
        "# 참고2 : https://blog.naver.com/PostView.naver?blogId=loyz&logNo=222379027185\n",
        "\n",
        "from math import *\n",
        "\n",
        "def 거리계산(위도1,경도1,위도2,경도2):\n",
        "  위도1 = 위도1*pi /180\n",
        "  경도1 = 경도1*.pi /180\n",
        "  위도2 = 위도2*pi /180\n",
        "  경도2 = 경도2*pi /180\n",
        "  return 6378.137*acos(cos(위도1)cos(위도2)*cos(경도2-경도1)+sin(위도1)*sin(위도2))\n"
      ],
      "execution_count": 31,
      "outputs": []
    },
    {
      "cell_type": "code",
      "metadata": {
        "colab": {
          "base_uri": "https://localhost:8080/"
        },
        "id": "4V_lAl-o2B6O",
        "outputId": "99b0b3d7-50e8-489c-fd06-4ff8760293c0"
      },
      "source": [
        "거리계산(위도1,경도1,위도2,경도2)"
      ],
      "execution_count": 33,
      "outputs": [
        {
          "output_type": "execute_result",
          "data": {
            "text/plain": [
              "1.1625182300699448"
            ]
          },
          "metadata": {},
          "execution_count": 33
        }
      ]
    },
    {
      "cell_type": "code",
      "metadata": {
        "id": "oojJ5DB543uA"
      },
      "source": [
        ""
      ],
      "execution_count": null,
      "outputs": []
    },
    {
      "cell_type": "code",
      "metadata": {
        "id": "RPnQdcMr4tvl"
      },
      "source": [
        "#매탄고등학교로부터 각 맛집으로의 거리 계산\n",
        "#데이터 상의 각 맛집의 '위도', '경도' 를 거리계산 함수의 인자로 넣어줌\n",
        "# apply 함수 사용시 column 방향으로 참조하므로 axis=1\n",
        "\n",
        "맛집['거리'] = 맛집.apply(lambda x:거리계산(위도 ,경도, x['위도'] ,x['경도']), axis=1)"
      ],
      "execution_count": 29,
      "outputs": []
    },
    {
      "cell_type": "code",
      "metadata": {
        "colab": {
          "base_uri": "https://localhost:8080/",
          "height": 202
        },
        "id": "KMZx2k3l8KGN",
        "outputId": "53e8fc96-5241-49e0-e863-95c2510e8beb"
      },
      "source": [
        "\n",
        "#매탄고등학교로부터 가장 가까운 5개의 맛집 표시\n",
        "맛집.sort_values(by='거리', ascending=True).head(5)"
      ],
      "execution_count": 35,
      "outputs": [
        {
          "output_type": "execute_result",
          "data": {
            "text/html": [
              "<div>\n",
              "<style scoped>\n",
              "    .dataframe tbody tr th:only-of-type {\n",
              "        vertical-align: middle;\n",
              "    }\n",
              "\n",
              "    .dataframe tbody tr th {\n",
              "        vertical-align: top;\n",
              "    }\n",
              "\n",
              "    .dataframe thead th {\n",
              "        text-align: right;\n",
              "    }\n",
              "</style>\n",
              "<table border=\"1\" class=\"dataframe\">\n",
              "  <thead>\n",
              "    <tr style=\"text-align: right;\">\n",
              "      <th></th>\n",
              "      <th>시군명</th>\n",
              "      <th>음식점명</th>\n",
              "      <th>맛집전화번호</th>\n",
              "      <th>대표음식명</th>\n",
              "      <th>소재지우편번호</th>\n",
              "      <th>소재지도로명주소</th>\n",
              "      <th>소재지지번주소</th>\n",
              "      <th>위도</th>\n",
              "      <th>경도</th>\n",
              "      <th>거리</th>\n",
              "    </tr>\n",
              "  </thead>\n",
              "  <tbody>\n",
              "    <tr>\n",
              "      <th>50</th>\n",
              "      <td>수원시</td>\n",
              "      <td>한국관</td>\n",
              "      <td>031-217-8889</td>\n",
              "      <td>수원양념왕갈비</td>\n",
              "      <td>16491</td>\n",
              "      <td>경기도 수원시 팔달구 권선로741번길 16-8</td>\n",
              "      <td>경기도 수원시 팔달구 인계동 1134-1번지</td>\n",
              "      <td>37.258157</td>\n",
              "      <td>127.032867</td>\n",
              "      <td>1.162517</td>\n",
              "    </tr>\n",
              "    <tr>\n",
              "      <th>55</th>\n",
              "      <td>수원시</td>\n",
              "      <td>신라갈비</td>\n",
              "      <td>031-212-2354</td>\n",
              "      <td>생갈비</td>\n",
              "      <td>16518</td>\n",
              "      <td>경기도 수원시 영통구 동수원로 538</td>\n",
              "      <td>경기도 수원시 영통구 원천동 89-7번지</td>\n",
              "      <td>37.273713</td>\n",
              "      <td>127.049199</td>\n",
              "      <td>1.300723</td>\n",
              "    </tr>\n",
              "    <tr>\n",
              "      <th>48</th>\n",
              "      <td>수원시</td>\n",
              "      <td>남촌</td>\n",
              "      <td>031-239-0411</td>\n",
              "      <td>홍어삼합</td>\n",
              "      <td>16571</td>\n",
              "      <td>경기도 수원시 권선구 권광로123번길 15</td>\n",
              "      <td>경기도 수원시 권선구 권선동 1022번지</td>\n",
              "      <td>37.258879</td>\n",
              "      <td>127.029700</td>\n",
              "      <td>1.395979</td>\n",
              "    </tr>\n",
              "    <tr>\n",
              "      <th>56</th>\n",
              "      <td>수원시</td>\n",
              "      <td>본수원갈비</td>\n",
              "      <td>031-211-5952</td>\n",
              "      <td>생갈비</td>\n",
              "      <td>16496</td>\n",
              "      <td>경기도 수원시 팔달구 중부대로223번길 41</td>\n",
              "      <td>경기도 수원시 팔달구 우만동 51-20번지</td>\n",
              "      <td>37.278041</td>\n",
              "      <td>127.040441</td>\n",
              "      <td>1.763442</td>\n",
              "    </tr>\n",
              "    <tr>\n",
              "      <th>52</th>\n",
              "      <td>수원시</td>\n",
              "      <td>가보정</td>\n",
              "      <td>031-238-3883</td>\n",
              "      <td>양념갈비</td>\n",
              "      <td>16481</td>\n",
              "      <td>경기도 수원시 팔달구 장다리로 282</td>\n",
              "      <td>경기도 수원시 팔달구 인계동 958-1번지</td>\n",
              "      <td>37.274124</td>\n",
              "      <td>127.028668</td>\n",
              "      <td>1.919341</td>\n",
              "    </tr>\n",
              "  </tbody>\n",
              "</table>\n",
              "</div>"
            ],
            "text/plain": [
              "    시군명   음식점명        맛집전화번호  ...         위도          경도        거리\n",
              "50  수원시    한국관  031-217-8889  ...  37.258157  127.032867  1.162517\n",
              "55  수원시   신라갈비  031-212-2354  ...  37.273713  127.049199  1.300723\n",
              "48  수원시     남촌  031-239-0411  ...  37.258879  127.029700  1.395979\n",
              "56  수원시  본수원갈비  031-211-5952  ...  37.278041  127.040441  1.763442\n",
              "52  수원시    가보정  031-238-3883  ...  37.274124  127.028668  1.919341\n",
              "\n",
              "[5 rows x 10 columns]"
            ]
          },
          "metadata": {},
          "execution_count": 35
        }
      ]
    },
    {
      "cell_type": "code",
      "metadata": {
        "colab": {
          "base_uri": "https://localhost:8080/",
          "height": 202
        },
        "id": "zOEatffE8MMQ",
        "outputId": "1de3a3e4-9e53-41bf-9392-3692124d844b"
      },
      "source": [
        "#대표음식명에 '갈비'를 포함하는 5개의 맛집 표시\n",
        "맛집[맛집['대표음식명'].str.contains('갈비')].head(5)"
      ],
      "execution_count": 34,
      "outputs": [
        {
          "output_type": "execute_result",
          "data": {
            "text/html": [
              "<div>\n",
              "<style scoped>\n",
              "    .dataframe tbody tr th:only-of-type {\n",
              "        vertical-align: middle;\n",
              "    }\n",
              "\n",
              "    .dataframe tbody tr th {\n",
              "        vertical-align: top;\n",
              "    }\n",
              "\n",
              "    .dataframe thead th {\n",
              "        text-align: right;\n",
              "    }\n",
              "</style>\n",
              "<table border=\"1\" class=\"dataframe\">\n",
              "  <thead>\n",
              "    <tr style=\"text-align: right;\">\n",
              "      <th></th>\n",
              "      <th>시군명</th>\n",
              "      <th>음식점명</th>\n",
              "      <th>맛집전화번호</th>\n",
              "      <th>대표음식명</th>\n",
              "      <th>소재지우편번호</th>\n",
              "      <th>소재지도로명주소</th>\n",
              "      <th>소재지지번주소</th>\n",
              "      <th>위도</th>\n",
              "      <th>경도</th>\n",
              "      <th>거리</th>\n",
              "    </tr>\n",
              "  </thead>\n",
              "  <tbody>\n",
              "    <tr>\n",
              "      <th>7</th>\n",
              "      <td>광주시</td>\n",
              "      <td>능골한우가</td>\n",
              "      <td>031-797-0255</td>\n",
              "      <td>갈비탕, 한우</td>\n",
              "      <td>12773</td>\n",
              "      <td>경기도 광주시 오포읍 오포로 147</td>\n",
              "      <td>경기도 광주시 오포읍 능평리 146-6번지</td>\n",
              "      <td>37.345677</td>\n",
              "      <td>127.181793</td>\n",
              "      <td>15.258307</td>\n",
              "    </tr>\n",
              "    <tr>\n",
              "      <th>15</th>\n",
              "      <td>광주시</td>\n",
              "      <td>광주본갈비</td>\n",
              "      <td>031-769-6363</td>\n",
              "      <td>돼지갈비</td>\n",
              "      <td>12741</td>\n",
              "      <td>경기도 광주시 경안천로 33</td>\n",
              "      <td>경기도 광주시 송정동 94-1번지</td>\n",
              "      <td>37.414001</td>\n",
              "      <td>127.264065</td>\n",
              "      <td>25.708009</td>\n",
              "    </tr>\n",
              "    <tr>\n",
              "      <th>27</th>\n",
              "      <td>동두천시</td>\n",
              "      <td>동동갈비</td>\n",
              "      <td>031-864-3093</td>\n",
              "      <td>돼지갈비, 갈비탕</td>\n",
              "      <td>11330</td>\n",
              "      <td>경기도 동두천시 어수로101번길 13</td>\n",
              "      <td>경기도 동두천시 생연동 670-3번지</td>\n",
              "      <td>37.902802</td>\n",
              "      <td>127.053672</td>\n",
              "      <td>71.273945</td>\n",
              "    </tr>\n",
              "    <tr>\n",
              "      <th>30</th>\n",
              "      <td>부천시</td>\n",
              "      <td>참맛진숯불갈비</td>\n",
              "      <td>032-325-6464</td>\n",
              "      <td>한우암소갈비살</td>\n",
              "      <td>14546</td>\n",
              "      <td>경기도 부천시 석천로177번길 16</td>\n",
              "      <td>경기도 부천시 중동 1163-11번지</td>\n",
              "      <td>37.503423</td>\n",
              "      <td>126.761971</td>\n",
              "      <td>36.667341</td>\n",
              "    </tr>\n",
              "    <tr>\n",
              "      <th>47</th>\n",
              "      <td>수원시</td>\n",
              "      <td>명가정</td>\n",
              "      <td>031-255-9916</td>\n",
              "      <td>소양념갈비</td>\n",
              "      <td>16603</td>\n",
              "      <td>경기도 수원시 권선구 탑동로57번길 29</td>\n",
              "      <td>경기도 수원시 권선구 탑동 746-2번지</td>\n",
              "      <td>37.273204</td>\n",
              "      <td>126.972260</td>\n",
              "      <td>6.530448</td>\n",
              "    </tr>\n",
              "  </tbody>\n",
              "</table>\n",
              "</div>"
            ],
            "text/plain": [
              "     시군명     음식점명        맛집전화번호  ...         위도          경도         거리\n",
              "7    광주시    능골한우가  031-797-0255  ...  37.345677  127.181793  15.258307\n",
              "15   광주시    광주본갈비  031-769-6363  ...  37.414001  127.264065  25.708009\n",
              "27  동두천시     동동갈비  031-864-3093  ...  37.902802  127.053672  71.273945\n",
              "30   부천시  참맛진숯불갈비  032-325-6464  ...  37.503423  126.761971  36.667341\n",
              "47   수원시      명가정  031-255-9916  ...  37.273204  126.972260   6.530448\n",
              "\n",
              "[5 rows x 10 columns]"
            ]
          },
          "metadata": {},
          "execution_count": 34
        }
      ]
    },
    {
      "cell_type": "code",
      "metadata": {
        "colab": {
          "base_uri": "https://localhost:8080/",
          "height": 202
        },
        "id": "vUfs8Qau9lhX",
        "outputId": "2932fb71-f0a2-4187-f298-150662405749"
      },
      "source": [
        "#대표음식명에 '갈비'를 포함하는 맛집 중 매탄고등학교로부터 가장 가까운 5개의 맛집 표시\n",
        "맛집[맛집['대표음식명'].str.contains('갈비')].sort_values(by='거리', ascending=True).head(5)"
      ],
      "execution_count": 36,
      "outputs": [
        {
          "output_type": "execute_result",
          "data": {
            "text/html": [
              "<div>\n",
              "<style scoped>\n",
              "    .dataframe tbody tr th:only-of-type {\n",
              "        vertical-align: middle;\n",
              "    }\n",
              "\n",
              "    .dataframe tbody tr th {\n",
              "        vertical-align: top;\n",
              "    }\n",
              "\n",
              "    .dataframe thead th {\n",
              "        text-align: right;\n",
              "    }\n",
              "</style>\n",
              "<table border=\"1\" class=\"dataframe\">\n",
              "  <thead>\n",
              "    <tr style=\"text-align: right;\">\n",
              "      <th></th>\n",
              "      <th>시군명</th>\n",
              "      <th>음식점명</th>\n",
              "      <th>맛집전화번호</th>\n",
              "      <th>대표음식명</th>\n",
              "      <th>소재지우편번호</th>\n",
              "      <th>소재지도로명주소</th>\n",
              "      <th>소재지지번주소</th>\n",
              "      <th>위도</th>\n",
              "      <th>경도</th>\n",
              "      <th>거리</th>\n",
              "    </tr>\n",
              "  </thead>\n",
              "  <tbody>\n",
              "    <tr>\n",
              "      <th>50</th>\n",
              "      <td>수원시</td>\n",
              "      <td>한국관</td>\n",
              "      <td>031-217-8889</td>\n",
              "      <td>수원양념왕갈비</td>\n",
              "      <td>16491</td>\n",
              "      <td>경기도 수원시 팔달구 권선로741번길 16-8</td>\n",
              "      <td>경기도 수원시 팔달구 인계동 1134-1번지</td>\n",
              "      <td>37.258157</td>\n",
              "      <td>127.032867</td>\n",
              "      <td>1.162517</td>\n",
              "    </tr>\n",
              "    <tr>\n",
              "      <th>55</th>\n",
              "      <td>수원시</td>\n",
              "      <td>신라갈비</td>\n",
              "      <td>031-212-2354</td>\n",
              "      <td>생갈비</td>\n",
              "      <td>16518</td>\n",
              "      <td>경기도 수원시 영통구 동수원로 538</td>\n",
              "      <td>경기도 수원시 영통구 원천동 89-7번지</td>\n",
              "      <td>37.273713</td>\n",
              "      <td>127.049199</td>\n",
              "      <td>1.300723</td>\n",
              "    </tr>\n",
              "    <tr>\n",
              "      <th>56</th>\n",
              "      <td>수원시</td>\n",
              "      <td>본수원갈비</td>\n",
              "      <td>031-211-5952</td>\n",
              "      <td>생갈비</td>\n",
              "      <td>16496</td>\n",
              "      <td>경기도 수원시 팔달구 중부대로223번길 41</td>\n",
              "      <td>경기도 수원시 팔달구 우만동 51-20번지</td>\n",
              "      <td>37.278041</td>\n",
              "      <td>127.040441</td>\n",
              "      <td>1.763442</td>\n",
              "    </tr>\n",
              "    <tr>\n",
              "      <th>52</th>\n",
              "      <td>수원시</td>\n",
              "      <td>가보정</td>\n",
              "      <td>031-238-3883</td>\n",
              "      <td>양념갈비</td>\n",
              "      <td>16481</td>\n",
              "      <td>경기도 수원시 팔달구 장다리로 282</td>\n",
              "      <td>경기도 수원시 팔달구 인계동 958-1번지</td>\n",
              "      <td>37.274124</td>\n",
              "      <td>127.028668</td>\n",
              "      <td>1.919341</td>\n",
              "    </tr>\n",
              "    <tr>\n",
              "      <th>54</th>\n",
              "      <td>수원시</td>\n",
              "      <td>송풍가든</td>\n",
              "      <td>031-252-4700</td>\n",
              "      <td>양념갈비</td>\n",
              "      <td>16300</td>\n",
              "      <td>경기도 수원시 장안구 경수대로 1013</td>\n",
              "      <td>경기도 수원시 장안구 송죽동 440-3번지</td>\n",
              "      <td>37.306177</td>\n",
              "      <td>127.000649</td>\n",
              "      <td>6.230467</td>\n",
              "    </tr>\n",
              "  </tbody>\n",
              "</table>\n",
              "</div>"
            ],
            "text/plain": [
              "    시군명   음식점명        맛집전화번호  ...         위도          경도        거리\n",
              "50  수원시    한국관  031-217-8889  ...  37.258157  127.032867  1.162517\n",
              "55  수원시   신라갈비  031-212-2354  ...  37.273713  127.049199  1.300723\n",
              "56  수원시  본수원갈비  031-211-5952  ...  37.278041  127.040441  1.763442\n",
              "52  수원시    가보정  031-238-3883  ...  37.274124  127.028668  1.919341\n",
              "54  수원시   송풍가든  031-252-4700  ...  37.306177  127.000649  6.230467\n",
              "\n",
              "[5 rows x 10 columns]"
            ]
          },
          "metadata": {},
          "execution_count": 36
        }
      ]
    },
    {
      "cell_type": "code",
      "metadata": {
        "id": "iANy0Dis-NEM"
      },
      "source": [
        "#우리집의 위도,경도 입력\n",
        "# https://pilot.duni.io/util/ 에서 주소를 좌표로 변환\n",
        "위도=37.224512955\n",
        "경도=127.05938805"
      ],
      "execution_count": 37,
      "outputs": []
    },
    {
      "cell_type": "code",
      "metadata": {
        "id": "oU7YFCpDGxzC"
      },
      "source": [
        "#우리집로부터 각 맛집으로의 거리 계산\n",
        "#데이터 상의 각 맛집의 '위도', '경도' 를 거리계산 함수의 인자로 넣어줌\n",
        "# apply 함수 사용시 column 방향으로 참조하므로 axis=1\n",
        "\n",
        "맛집['우리집거리'] = 맛집.apply(lambda x:거리계산(위도 ,경도, x['위도'] ,x['경도']), axis=1)"
      ],
      "execution_count": 44,
      "outputs": []
    },
    {
      "cell_type": "code",
      "metadata": {
        "colab": {
          "base_uri": "https://localhost:8080/",
          "height": 302
        },
        "id": "v17c5Je-G1DK",
        "outputId": "f0fa94fc-898e-4248-c3f0-38d97a9c0e80"
      },
      "source": [
        "#(매탄고로부터의 거리) + (우리집로부터의 거리) 가 가장 짧은  5개의 맛집 표시\n",
        "\n",
        "맛집['거리합'] = 맛집['거리'] + 맛집['우리집거리']\n",
        "\n",
        "맛집.sort_values(by='거리합', ascending=True).head(5)"
      ],
      "execution_count": 45,
      "outputs": [
        {
          "output_type": "execute_result",
          "data": {
            "text/html": [
              "<div>\n",
              "<style scoped>\n",
              "    .dataframe tbody tr th:only-of-type {\n",
              "        vertical-align: middle;\n",
              "    }\n",
              "\n",
              "    .dataframe tbody tr th {\n",
              "        vertical-align: top;\n",
              "    }\n",
              "\n",
              "    .dataframe thead th {\n",
              "        text-align: right;\n",
              "    }\n",
              "</style>\n",
              "<table border=\"1\" class=\"dataframe\">\n",
              "  <thead>\n",
              "    <tr style=\"text-align: right;\">\n",
              "      <th></th>\n",
              "      <th>시군명</th>\n",
              "      <th>음식점명</th>\n",
              "      <th>맛집전화번호</th>\n",
              "      <th>대표음식명</th>\n",
              "      <th>소재지우편번호</th>\n",
              "      <th>소재지도로명주소</th>\n",
              "      <th>소재지지번주소</th>\n",
              "      <th>위도</th>\n",
              "      <th>경도</th>\n",
              "      <th>거리</th>\n",
              "      <th>우리집거리</th>\n",
              "      <th>거리합</th>\n",
              "      <th>우리집까지거리</th>\n",
              "    </tr>\n",
              "  </thead>\n",
              "  <tbody>\n",
              "    <tr>\n",
              "      <th>49</th>\n",
              "      <td>수원시</td>\n",
              "      <td>서윤한정식</td>\n",
              "      <td>031-273-2345</td>\n",
              "      <td>행복 한정식, 서윤특선</td>\n",
              "      <td>16679</td>\n",
              "      <td>경기도 수원시 영통구 덕영대로1499번길 28</td>\n",
              "      <td>경기도 수원시 영통구 영통동 977-1번지</td>\n",
              "      <td>37.246850</td>\n",
              "      <td>127.055663</td>\n",
              "      <td>1.999660</td>\n",
              "      <td>2.508398</td>\n",
              "      <td>4.508057</td>\n",
              "      <td>2.508398</td>\n",
              "    </tr>\n",
              "    <tr>\n",
              "      <th>50</th>\n",
              "      <td>수원시</td>\n",
              "      <td>한국관</td>\n",
              "      <td>031-217-8889</td>\n",
              "      <td>수원양념왕갈비</td>\n",
              "      <td>16491</td>\n",
              "      <td>경기도 수원시 팔달구 권선로741번길 16-8</td>\n",
              "      <td>경기도 수원시 팔달구 인계동 1134-1번지</td>\n",
              "      <td>37.258157</td>\n",
              "      <td>127.032867</td>\n",
              "      <td>1.162517</td>\n",
              "      <td>4.421651</td>\n",
              "      <td>5.584168</td>\n",
              "      <td>4.421651</td>\n",
              "    </tr>\n",
              "    <tr>\n",
              "      <th>48</th>\n",
              "      <td>수원시</td>\n",
              "      <td>남촌</td>\n",
              "      <td>031-239-0411</td>\n",
              "      <td>홍어삼합</td>\n",
              "      <td>16571</td>\n",
              "      <td>경기도 수원시 권선구 권광로123번길 15</td>\n",
              "      <td>경기도 수원시 권선구 권선동 1022번지</td>\n",
              "      <td>37.258879</td>\n",
              "      <td>127.029700</td>\n",
              "      <td>1.395979</td>\n",
              "      <td>4.642982</td>\n",
              "      <td>6.038961</td>\n",
              "      <td>4.642982</td>\n",
              "    </tr>\n",
              "    <tr>\n",
              "      <th>55</th>\n",
              "      <td>수원시</td>\n",
              "      <td>신라갈비</td>\n",
              "      <td>031-212-2354</td>\n",
              "      <td>생갈비</td>\n",
              "      <td>16518</td>\n",
              "      <td>경기도 수원시 영통구 동수원로 538</td>\n",
              "      <td>경기도 수원시 영통구 원천동 89-7번지</td>\n",
              "      <td>37.273713</td>\n",
              "      <td>127.049199</td>\n",
              "      <td>1.300723</td>\n",
              "      <td>5.550809</td>\n",
              "      <td>6.851532</td>\n",
              "      <td>5.550809</td>\n",
              "    </tr>\n",
              "    <tr>\n",
              "      <th>56</th>\n",
              "      <td>수원시</td>\n",
              "      <td>본수원갈비</td>\n",
              "      <td>031-211-5952</td>\n",
              "      <td>생갈비</td>\n",
              "      <td>16496</td>\n",
              "      <td>경기도 수원시 팔달구 중부대로223번길 41</td>\n",
              "      <td>경기도 수원시 팔달구 우만동 51-20번지</td>\n",
              "      <td>37.278041</td>\n",
              "      <td>127.040441</td>\n",
              "      <td>1.763442</td>\n",
              "      <td>6.190687</td>\n",
              "      <td>7.954129</td>\n",
              "      <td>6.190687</td>\n",
              "    </tr>\n",
              "  </tbody>\n",
              "</table>\n",
              "</div>"
            ],
            "text/plain": [
              "    시군명   음식점명        맛집전화번호  ...     우리집거리       거리합   우리집까지거리\n",
              "49  수원시  서윤한정식  031-273-2345  ...  2.508398  4.508057  2.508398\n",
              "50  수원시    한국관  031-217-8889  ...  4.421651  5.584168  4.421651\n",
              "48  수원시     남촌  031-239-0411  ...  4.642982  6.038961  4.642982\n",
              "55  수원시   신라갈비  031-212-2354  ...  5.550809  6.851532  5.550809\n",
              "56  수원시  본수원갈비  031-211-5952  ...  6.190687  7.954129  6.190687\n",
              "\n",
              "[5 rows x 13 columns]"
            ]
          },
          "metadata": {},
          "execution_count": 45
        }
      ]
    },
    {
      "cell_type": "code",
      "metadata": {
        "id": "DaUYzrBeG07e"
      },
      "source": [
        ""
      ],
      "execution_count": null,
      "outputs": []
    }
  ]
}