{
  "nbformat": 4,
  "nbformat_minor": 0,
  "metadata": {
    "colab": {
      "name": "경기도맛집현황.ipynb",
      "provenance": [],
      "authorship_tag": "ABX9TyO/2T2pETpYIjxO2fz6cYnv",
      "include_colab_link": true
    },
    "kernelspec": {
      "name": "python3",
      "display_name": "Python 3"
    },
    "language_info": {
      "name": "python"
    }
  },
  "cells": [
    {
      "cell_type": "markdown",
      "metadata": {
        "id": "view-in-github",
        "colab_type": "text"
      },
      "source": [
        "<a href=\"https://colab.research.google.com/github/doomba32/python/blob/main/%EA%B2%BD%EA%B8%B0%EB%8F%84%EB%A7%9B%EC%A7%91%ED%98%84%ED%99%A9.ipynb\" target=\"_parent\"><img src=\"https://colab.research.google.com/assets/colab-badge.svg\" alt=\"Open In Colab\"/></a>"
      ]
    },
    {
      "cell_type": "code",
      "metadata": {
        "id": "q3_hrh7kyBH0"
      },
      "source": [
        ""
      ],
      "execution_count": null,
      "outputs": []
    },
    {
      "cell_type": "code",
      "metadata": {
        "id": "bde_Kz-HPPlH"
      },
      "source": [
        "#pandas 모듈을 pd 라는 이름으로 import\n",
        "import pandas as pd"
      ],
      "execution_count": 1,
      "outputs": []
    },
    {
      "cell_type": "code",
      "metadata": {
        "id": "RyUx9_agyc8h"
      },
      "source": [
        ""
      ],
      "execution_count": null,
      "outputs": []
    },
    {
      "cell_type": "code",
      "metadata": {
        "id": "TLs3XwEQPPlJ",
        "colab": {
          "base_uri": "https://localhost:8080/",
          "height": 202
        },
        "outputId": "b30a6533-be3d-4c38-cde7-1c9ebe389a1f"
      },
      "source": [
        "#Restaurant.csv 파일로부터 읽은 data를 restaurant 변수에 저장\n",
        "restaurant = pd.read_csv('http://doomba32.github.io/python/data/Restaurant.csv', encoding='euc-kr')\n",
        "\n",
        "#restaurant의 앞쪽 데이터 확인\n",
        "restaurant.head()"
      ],
      "execution_count": 4,
      "outputs": [
        {
          "output_type": "execute_result",
          "data": {
            "text/html": [
              "<div>\n",
              "<style scoped>\n",
              "    .dataframe tbody tr th:only-of-type {\n",
              "        vertical-align: middle;\n",
              "    }\n",
              "\n",
              "    .dataframe tbody tr th {\n",
              "        vertical-align: top;\n",
              "    }\n",
              "\n",
              "    .dataframe thead th {\n",
              "        text-align: right;\n",
              "    }\n",
              "</style>\n",
              "<table border=\"1\" class=\"dataframe\">\n",
              "  <thead>\n",
              "    <tr style=\"text-align: right;\">\n",
              "      <th></th>\n",
              "      <th>시군명</th>\n",
              "      <th>음식점명</th>\n",
              "      <th>맛집전화번호</th>\n",
              "      <th>대표음식명</th>\n",
              "      <th>소재지우편번호</th>\n",
              "      <th>소재지도로명주소</th>\n",
              "      <th>소재지지번주소</th>\n",
              "      <th>WGS84위도</th>\n",
              "      <th>WGS84경도</th>\n",
              "    </tr>\n",
              "  </thead>\n",
              "  <tbody>\n",
              "    <tr>\n",
              "      <th>0</th>\n",
              "      <td>가평군</td>\n",
              "      <td>가평축협 한우명가</td>\n",
              "      <td>031-581-1592</td>\n",
              "      <td>푸른연잎한우명품꽃등심</td>\n",
              "      <td>12422</td>\n",
              "      <td>경기도 가평군 가평읍 달전로 19</td>\n",
              "      <td>경기도 가평군 가평읍 달전리 382-1번지</td>\n",
              "      <td>37.815844</td>\n",
              "      <td>127.516128</td>\n",
              "    </tr>\n",
              "    <tr>\n",
              "      <th>1</th>\n",
              "      <td>고양시</td>\n",
              "      <td>청정바지락칼국수</td>\n",
              "      <td>031-912-7676</td>\n",
              "      <td>천년초들깨수제비</td>\n",
              "      <td>10359</td>\n",
              "      <td>경기도 고양시 일산동구 일산로463번길 7</td>\n",
              "      <td>경기도 고양시 일산동구 정발산동 1148번지</td>\n",
              "      <td>37.673707</td>\n",
              "      <td>126.775375</td>\n",
              "    </tr>\n",
              "    <tr>\n",
              "      <th>2</th>\n",
              "      <td>고양시</td>\n",
              "      <td>양촌리아구</td>\n",
              "      <td>031-911-0430</td>\n",
              "      <td>아구탕</td>\n",
              "      <td>10218</td>\n",
              "      <td>경기도 고양시 일산서구 대화2로 152</td>\n",
              "      <td>경기도 고양시 일산서구 대화동 762-3번지</td>\n",
              "      <td>37.671931</td>\n",
              "      <td>126.736219</td>\n",
              "    </tr>\n",
              "    <tr>\n",
              "      <th>3</th>\n",
              "      <td>고양시</td>\n",
              "      <td>정통중화요리 남궁</td>\n",
              "      <td>031-911-3702</td>\n",
              "      <td>해물고추짬뽕, 양장피잡채</td>\n",
              "      <td>10367</td>\n",
              "      <td>경기도 고양시 일산서구 일산로 682</td>\n",
              "      <td>경기도 고양시 일산서구 대화동 2101번지</td>\n",
              "      <td>37.682042</td>\n",
              "      <td>126.753550</td>\n",
              "    </tr>\n",
              "    <tr>\n",
              "      <th>4</th>\n",
              "      <td>고양시</td>\n",
              "      <td>야구장농원</td>\n",
              "      <td>031-964-2884</td>\n",
              "      <td>오리진흙구이</td>\n",
              "      <td>10313</td>\n",
              "      <td>경기도 고양시 일산동구 견달산로 351</td>\n",
              "      <td>경기도 고양시 일산동구 문봉동 102-1번지</td>\n",
              "      <td>37.697102</td>\n",
              "      <td>126.819819</td>\n",
              "    </tr>\n",
              "  </tbody>\n",
              "</table>\n",
              "</div>"
            ],
            "text/plain": [
              "   시군명       음식점명  ...    WGS84위도     WGS84경도\n",
              "0  가평군  가평축협 한우명가  ...  37.815844  127.516128\n",
              "1  고양시   청정바지락칼국수  ...  37.673707  126.775375\n",
              "2  고양시      양촌리아구  ...  37.671931  126.736219\n",
              "3  고양시  정통중화요리 남궁  ...  37.682042  126.753550\n",
              "4  고양시      야구장농원  ...  37.697102  126.819819\n",
              "\n",
              "[5 rows x 9 columns]"
            ]
          },
          "metadata": {},
          "execution_count": 4
        }
      ]
    },
    {
      "cell_type": "code",
      "metadata": {
        "id": "FjlX2R76y-Nu"
      },
      "source": [
        ""
      ],
      "execution_count": null,
      "outputs": []
    }
  ]
}