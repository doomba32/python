{
  "nbformat": 4,
  "nbformat_minor": 0,
  "metadata": {
    "anaconda-cloud": {},
    "kernelspec": {
      "display_name": "Python 3",
      "language": "python",
      "name": "python3"
    },
    "language_info": {
      "codemirror_mode": {
        "name": "ipython",
        "version": 3
      },
      "file_extension": ".py",
      "mimetype": "text/x-python",
      "name": "python",
      "nbconvert_exporter": "python",
      "pygments_lexer": "ipython3",
      "version": "3.6.4"
    },
    "colab": {
      "name": "서울시CCTV현황.ipynb",
      "provenance": [],
      "include_colab_link": true
    }
  },
  "cells": [
    {
      "cell_type": "markdown",
      "metadata": {
        "id": "view-in-github",
        "colab_type": "text"
      },
      "source": [
        "<a href=\"https://colab.research.google.com/github/doomba32/python/blob/main/%EC%84%9C%EC%9A%B8%EC%8B%9CCCTV%ED%98%84%ED%99%A9.ipynb\" target=\"_parent\"><img src=\"https://colab.research.google.com/assets/colab-badge.svg\" alt=\"Open In Colab\"/></a>"
      ]
    },
    {
      "cell_type": "markdown",
      "metadata": {
        "collapsed": true,
        "id": "X4q6uExoPPlE"
      },
      "source": [
        "# 서울시 구별 CCTV 현황 분석하기"
      ]
    },
    {
      "cell_type": "code",
      "metadata": {
        "id": "bde_Kz-HPPlH"
      },
      "source": [
        "#pandas 모듈을 pd 라는 이름으로 import\n",
        "import pandas as pd"
      ],
      "execution_count": null,
      "outputs": []
    },
    {
      "cell_type": "code",
      "metadata": {
        "id": "TLs3XwEQPPlJ",
        "collapsed": true
      },
      "source": [
        "#Seoul_CCTV.csv 파일로부터 읽은 data를 Seoul_CCTV 변수에 저장\n",
        "Seoul_CCTV = pd.read_csv('http://doomba32.github.io/python/data/Seoul_CCTV.csv', thousands = ',')\n",
        "\n",
        "#Seoul_CCTV의 앞쪽 데이터 확인\n",
        "Seoul_CCTV.head()"
      ],
      "execution_count": null,
      "outputs": []
    },
    {
      "cell_type": "code",
      "metadata": {
        "id": "FXU8DXLRTQxV"
      },
      "source": [
        "#Seoul_CCTV의 앞쪽 3행(row)의 데이터 확인\n",
        "Seoul_CCTV.head(3)"
      ],
      "execution_count": null,
      "outputs": []
    },
    {
      "cell_type": "code",
      "metadata": {
        "id": "tbgRm58ePPlK"
      },
      "source": [
        "#Seoul_CCTV의 열(column) 확인\n",
        "Seoul_CCTV.columns"
      ],
      "execution_count": null,
      "outputs": []
    },
    {
      "cell_type": "code",
      "metadata": {
        "id": "CE34VdiRPPlL"
      },
      "source": [
        "#Seoul_CCTV의 열(column) 중 첫번째 값 확인\n",
        "Seoul_CCTV.columns[0]"
      ],
      "execution_count": null,
      "outputs": []
    },
    {
      "cell_type": "code",
      "metadata": {
        "id": "nt_zOerrPPlN"
      },
      "source": [
        "#Seoul_CCTV의 첫번째 열의 이름을 '구별'로 변경해봄\n",
        "Seoul_CCTV.rename(columns={Seoul_CCTV.columns[0] : '구별'}, inplace=True)\n",
        "Seoul_CCTV.head()"
      ],
      "execution_count": null,
      "outputs": []
    },
    {
      "cell_type": "markdown",
      "metadata": {
        "id": "t6cvieLxUlWE"
      },
      "source": [
        "## 2. CCTV 데이터 파악하기"
      ]
    },
    {
      "cell_type": "code",
      "metadata": {
        "id": "3E1JbDzAThj3"
      },
      "source": [
        "#Seoul_CCTV의 정보 출력\n",
        "Seoul_CCTV.info()"
      ],
      "execution_count": null,
      "outputs": []
    },
    {
      "cell_type": "code",
      "metadata": {
        "id": "-zNdxAYNUO9D"
      },
      "source": [
        "#CCTV 가 가장 적은 5개 구 출력\n",
        "Seoul_CCTV.sort_values(by='총계', ascending=True).head(5)"
      ],
      "execution_count": null,
      "outputs": []
    },
    {
      "cell_type": "code",
      "metadata": {
        "id": "RjsLDr8EUTej"
      },
      "source": [
        "#CCTV 가 가장 많은 5개 구 출력\n",
        "Seoul_CCTV.sort_values(by='총계', ascending=False).head(5)"
      ],
      "execution_count": null,
      "outputs": []
    },
    {
      "cell_type": "code",
      "metadata": {
        "id": "yqVJ8sIJVFKz"
      },
      "source": [
        "# 최근증가율 = (2021년~2014년)/(2013년~)\n",
        "Seoul_CCTV['최근증가율'] = (Seoul_CCTV['2021년'] + Seoul_CCTV['2020년'] +  Seoul_CCTV['2019년'] + \\\n",
        "                        Seoul_CCTV['2018년'] + Seoul_CCTV['2017년'] +  Seoul_CCTV['2016년'] + \\\n",
        "                        Seoul_CCTV['2015년'] + Seoul_CCTV['2014년']) / \\\n",
        "                        (Seoul_CCTV['2013년'] + Seoul_CCTV['2012년'] + Seoul_CCTV['2012년 이전'])  * 100\n",
        "\n",
        "#최근 증가율이 가장 높은 5개 구 출력\n",
        "Seoul_CCTV.sort_values(by='최근증가율', ascending=False).head(5)"
      ],
      "execution_count": null,
      "outputs": []
    }
  ]
}